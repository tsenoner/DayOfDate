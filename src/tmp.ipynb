{
 "cells": [
  {
   "cell_type": "code",
   "execution_count": 45,
   "metadata": {},
   "outputs": [
    {
     "data": {
      "image/png": "[encoded data removed]",
      "text/plain": [
       "<Figure size 432x288 with 1 Axes>"
      ]
     },
     "metadata": {
      "needs_background": "light"
     },
     "output_type": "display_data"
    }
   ],
   "source": [
    "import numpy as np\n",
    "import matplotlib.pyplot as plt\n",
    "\n",
    "N = 5\n",
    "menMeans = (20, 35, 30, 35, 27)\n",
    "menStd =   (2, 3, 4, 1, 2)\n",
    "\n",
    "ind = np.arange(N)  # the x locations for the groups\n",
    "width = 0.35       # the width of the bars\n",
    "\n",
    "fig = plt.figure()\n",
    "ax = fig.add_subplot(111)\n",
    "rects1 = ax.bar(ind, menMeans, width, color='royalblue', yerr=menStd)\n",
    "\n",
    "womenMeans = (25, 32, 34, 20, 25)\n",
    "womenStd =   (3, 5, 2, 3, 3)\n",
    "rects2 = ax.bar(ind+width, womenMeans, width, color='seagreen', yerr=womenStd)\n",
    "\n",
    "# add some\n",
    "ax.set_ylabel('Scores')\n",
    "ax.set_title('Scores by group and gender')\n",
    "ax.set_xticks(ind + width / 2)\n",
    "ax.set_xticklabels( ('G1', 'G2', 'G3', 'G4', 'G5') )\n",
    "\n",
    "ax.legend( (rects1[0], rects2[0]), ('Men', 'Women') )\n",
    "\n",
    "plt.show()"
   ]
  },
  {
   "cell_type": "code",
   "execution_count": 1,
   "metadata": {},
   "outputs": [
    {
     "data": {
      "text/plain": [
       "datetime.date(2021, 12, 7)"
      ]
     },
     "execution_count": 1,
     "metadata": {},
     "output_type": "execute_result"
    }
   ],
   "source": [
    "import datetime\n",
    "datetime.date(2021, 12, 7).strftime()"
   ]
  }
 ],
 "metadata": {
  "interpreter": {
   "hash": "71527dd6522327478c32a712ef7a8e616d1c47913efae871f351bba42f1c6116"
  },
  "kernelspec": {
   "display_name": "Python 3.9.7 64-bit ('day_of_date': conda)",
   "language": "python",
   "name": "python3"
  },
  "language_info": {
   "codemirror_mode": {
    "name": "ipython",
    "version": 3
   },
   "file_extension": ".py",
   "mimetype": "text/x-python",
   "name": "python",
   "nbconvert_exporter": "python",
   "pygments_lexer": "ipython3",
   "version": "3.9.7"
  },
  "orig_nbformat": 4
 },
 "nbformat": 4,
 "nbformat_minor": 2
}
